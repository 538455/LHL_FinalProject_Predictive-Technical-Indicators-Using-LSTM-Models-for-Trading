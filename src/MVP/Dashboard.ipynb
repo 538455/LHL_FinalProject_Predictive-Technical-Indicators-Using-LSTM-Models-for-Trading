{
 "cells": [
  {
   "cell_type": "markdown",
   "id": "c35f0c8c-020a-4112-80d1-6d256ee7ede7",
   "metadata": {
    "jp-MarkdownHeadingCollapsed": true,
    "tags": []
   },
   "source": [
    "## Import librairies"
   ]
  },
  {
   "cell_type": "code",
   "execution_count": 6,
   "id": "874d6d96-113b-404e-90d1-63b5bb0f8208",
   "metadata": {
    "tags": []
   },
   "outputs": [],
   "source": [
    "### Import libraries\n",
    "## Standards\n",
    "import pandas as pd\n",
    "import numpy as np\n",
    "\n",
    "## Plotting\n",
    "import matplotlib.pyplot as plt\n",
    "import seaborn as sns\n",
    "\n",
    "# Set pandas display options\n",
    "pd.set_option(\"display.max_columns\", 150)\n",
    "pd.set_option(\"display.max_rows\", 150)\n",
    "\n",
    "\n",
    "# Set seaborn default style\n",
    "sns.set_style(\"ticks\", {'axes.grid' : False})\n",
    "sns.set_palette(\"deep\")"
   ]
  },
  {
   "cell_type": "markdown",
   "id": "91fe057f",
   "metadata": {},
   "source": [
    "# Actions"
   ]
  },
  {
   "cell_type": "markdown",
   "id": "254f5f12-232b-44d6-ba60-305ae7194cef",
   "metadata": {
    "jp-MarkdownHeadingCollapsed": true,
    "tags": []
   },
   "source": [
    "## Generate Wishlist"
   ]
  },
  {
   "attachments": {},
   "cell_type": "markdown",
   "id": "545c637f-1852-449e-bdee-6bf8b80664c0",
   "metadata": {},
   "source": [
    "In this section, we are starting from the list of all TSX Tickers and keep only the ones that match our criteria. The results are then stored in a wishlist."
   ]
  },
  {
   "cell_type": "code",
   "execution_count": 2,
   "id": "1e48f63b-37b6-4dda-b6d5-f965c79f0a53",
   "metadata": {},
   "outputs": [],
   "source": [
    "TSX_Tickers = ['BTCQ.TO','ETHQ.TO','ABCT.TO','FAP.TO','ABST.TO','HDGE.TO','ARB.TO','ABTC.TO','ATSX.TO','ONEC.TO','ACD.TO','ASP.TO','AT.TO','AAV.TO','AEZS.TO','QCD.TO','QEM.TO','QIE.TO','QUS.TO','QBTL.TO','AEM.TO','AC.TO','BOS.TO','AH.TO','ALC.TO','ASTL.TO','AQN.TO','ATD.TO','ALYA.TO','AKE.TO','AMM.TO','AII.TO','ALS.TO','ARR.TO','AIF.TO','USA.TO','ARG.TO','AND.TO','ATE.TO','APLI.TO','APS.TO','ASCU.TO','ACAA.TO','RATE.TO','ASND.TO','AOT.TO','AYM.TO','ATH.TO','AI.TO','ATS.TO','ACB.TO','XLY.TO','AVL.TO','ASM.TO','AXIS.TO','AYA.TO','BDGI.TO','BLDP.TO','BMO.TO','BNS.TO','ABX.TO','BHC.TO','BBTV.TO','BSX.TO','HBIT.TO','HGD.TO','HGU.TO','HOD.TO','HOU.TO','HBKD.TO','HBKU.TO','HRED.TO','HREU.TO','HBD.TO','HBU.TO','BITI.TO','HMJU.TO','HMJI.TO','HQD.TO','HQU.TO','HND.TO','HNU.TO','HSD.TO','HSU.TO','HIU.TO','HUV.TO','HXD.TO','HXU.TO','HIX.TO','HED.TO','HEU.TO','HFD.TO','HFU.TO','HZD.TO','HZU.TO','BNK.TO','PRM.TO','BR.TO','BIR.TO','BDT.TO','EBIT.TO','QBTC.TO','BDOP.TO','BDEQ.TO','BDI.TO','BDIC.TO','BB.TO','BLN.TO','HBLK.TO','ZAG.TO','ZEQT.TO','ARKG.TO','ARKK.TO','ARKW.TO','ZESG.TO','ZBAL.TO','ZBBB.TO','TOWR.TO','GRNI.TO','ZBI.TO','ZDV.TO','ZWC.TO','ZMBS.TO','ZCLN.TO','ZCON.TO','ZCPB.TO','ZCB.TO','ZCDB.TO','ZWB.TO','ZWA.TO','ZWT.TO','ZWK.TO','ZWU.TO','ZDB.TO','ZDJ.TO','ZEF.TO','ZEB.TO','ZMT.TO','ZGD.TO','ZIN.TO','ZEO.TO','ZRE.TO','ZUB.TO','ZBK.TO','ZUH.TO','ZHU.TO','ZUT.TO','ESGB.TO','ESGH.TO','ESGF.TO','ZWP.TO','ZWE.TO','ZFH.TO','COMM.TO','DISC.TO','STPL.TO','ZWG.TO','ZGI.TO','ZGSB.TO','ZGB.TO','ZGRO.TO','ZQB.TO','ZHY.TO','ZJK.TO','ZDI.TO','ZDH.TO','ZJPN.TO','ZJG.TO','ZPR.TO','ZLC.TO','ZFL.TO','ZPL.TO','ZLB.TO','ZLE.TO','ZLI.TO','ZLD.TO','ZLU.TO','ZLH.TO','ZCM.TO','ZFM.TO','ZMP.TO','ZMU.TO','ZIC.TO','ZMMK.TO','ZMI.TO','ZGRN.TO','ZGQ.TO','ESGA.TO','ZVC.TO','ZCH.TO','ESGE.TO','ZDM.TO','ZEA.TO','ZEM.TO','ZEQ.TO','ZFIN.TO','ZGEN.TO','ESGG.TO','ZID.TO','ZINN.TO','ZINT.TO','ZAUT.TO','ESGY.TO','ZUQ.TO','ZVU.TO','ZQQ.TO','ZNQ.TO','ZPAY.TO','ZRR.TO','ZUE.TO','ZSP.TO','ZMID.TO','ZSML.TO','ZCN.TO','ZCS.TO','ZFS.TO','ZPS.TO','ZSB.TO','ZSDB.TO','ZSU.TO','ZTIP.TO','ZFC.TO','ZFN.TO','ZMSB.TO','ZZZD.TO','ZST.TO','ZDY.TO','ZUD.TO','ZWH.TO','ZWS.TO','ZHP.TO','ZUP.TO','ZPW.TO','ZPH.TO','WOMN.TO','BRMI.TO','BNE.TO','BYD.TO','BRAG.TO','BCT.TO','BRE.TO','BGC.TO','BGU.TO','BMAX.TO','EDGF.TO','BEPR.TO','BPRF.TO','BDIV.TO','HIG.TO','LCS.TO','BFIN.TO','BLOV.TO','OSP.TO','SBC.TO','BREA.TO','TLF.TO','BAM.TO','BBUC.TO','BN.TO','BIPC.TO','BNRE.TO','BEPC.TO','BUI.TO','BU.TO','CWL.TO','UDA.TO','CFW.TO','CCO.TO','CF.TO','CNE.TO','GOOS.TO','BK.TO','CGI.TO','CM.TO','LFE.TO','CNR.TO','CNQ.TO','CP.TO','CTC.TO','CU.TO','CWB.TO','DNT.TO','CFP.TO','CFX.TO','ICE.TO','WEED.TO','CS.TO','CJ.TO','CRDL.TO','CET.TO','CLS.TO','CNT.TO','CRP.TO','CDAY.TO','CEU.TO','CIA.TO','CWEB.TO','CGG.TO','CHR.TO','BXF.TO','CMDO.TO','CRED.TO','CNAO.TO','CCOM.TO','CDNA.TO','CIC.TO','CXF.TO','RIT.TO','CBUG.TO','CCOR.TO','CINC.TO','CDLB.TO','CIEM.TO','NXF.TO','FGO.TO','FSB.TO','CFRT.TO','CBCX.TO','CMVX.TO','CINV.TO','CGAA.TO','CGBN.TO','CLML.TO','FSF.TO','CGRB.TO','CGHY.TO','CINF.TO','CGIN.TO','LONG.TO','CGRA.TO','CGRE.TO','CGRN.TO','VALT.TO','CGXF.TO','FHI.TO','CSAV.TO','FIG.TO','CMAR.TO','CMEY.TO','WXM.TO','FXM.TO','ZXM.TO','VXM.TO','QXM.TO','YXM.TO','XXM.TO','FQC.TO','RWE.TO','RWX.TO','RWW.TO','CMAG.TO','CMGG.TO','ONEQ.TO','ONEB.TO','FPR.TO','FGB.TO','TXF.TO','FLI.TO','SID.TO','DGRC.TO','EHE.TO','IQD.TO','DQI.TO','JAPN.TO','UMI.TO','DGR.TO','DQD.TO','CAGG.TO','CAGS.TO','CACB.TO','CAFR.TO','CCBI.TO','CCEI.TO','CCNS.TO','CCRE.TO','CPLS.TO','CEMI.TO','CFLX.TO','CGBI.TO','CGLO.TO','CINT.TO','CIEI.TO','CUEI.TO','MBA.TO','CPH.TO','CVG.TO','CCA.TO','CIGI.TO','YCM.TO','CMG.TO','CDR.TO','COG.TO','CSU.TO','CTS.TO','CMMC.TO','CPLF.TO','CVO.TO','CTX.TO','CRWN.TO','CUB.TO','CXI.TO','CYB.TO','DCM.TO','DN.TO','DML.TO','DNTL.TO','DSG.TO','DCC.TO','DCG.TO','DANC.TO','DAMG.TO','DCP.TO','DCS.TO','DCU.TO','DRCU.TO','DRMC.TO','DRFC.TO','DRMD.TO','DRFD.TO','DRME.TO','DRFE.TO','DRFG.TO','DRMU.TO','DRFU.TO','DSAE.TO','DXT.TO','CARE.TO','DRT.TO','DFN.TO','DF.TO','DGS.TO','DS.TO','DBM.TO','DLCG.TO','DRM.TO','DPM.TO','DNG.TO','DXC.TO','DXO.TO','DXDB.TO','DXEM.TO','DXET.TO','DXQ.TO','DXG.TO','DXF.TO','DXN.TO','DXW.TO','DXIF.TO','DXV.TO','DXP.TO','DXR.TO','DXB.TO','DXU.TO','DXZ.TO','EAGR.TO','ELR.TO','EVT.TO','ECOR.TO','EFN.TO','BABY.TO','EMA.TO','EDV.TO','EDR.TO','ERF.TO','ENGH.TO','ESI.TO','E.TO','EGLX.TO','ETG.TO','ERD.TO','ESN.TO','ETHR.TO','EPRX.TO','ESM.TO','EOX.TO','ET.TO','DIVS.TO','EARN.TO','CARS.TO','BANK.TO','DATA.TO','ETC.TO','CYBR.TO','HERO.TO','TECE.TO','EBNK.TO','TECH.TO','LEAD.TO','LIFE.TO','BASE.TO','EDGE.TO','MESH.TO','BILT.TO','CALL.TO','EXN.TO','MIN.TO','EIF.TO','XTC.TO','EGIF.TO','FFH.TO','FANS.TO','FDY.TO','FRX.TO','FBTC.TO','FETH.TO','FCCD.TO','FCCQ.TO','FCCL.TO','FCCM.TO','FCMI.TO','FCSB.TO','FCCV.TO','FCGB.TO','FCIG.TO','FCGI.TO','FCID.TO','FCIQ.TO','FCIL.TO','FCIM.TO','FCIV.TO','FCCB.TO','FCRH.TO','FCRR.TO','FCUH.TO','FCUD.TO','FCQH.TO','FCUQ.TO','FCLH.TO','FCUL.TO','FCMH.TO','FCMO.TO','FCVH.TO','FCUV.TO','FSZ.TO','FTN.TO','FAF.TO','FC.TO','FR.TO','FF.TO','FN.TO','FM.TO','FHH.TO','FHG.TO','FHQ.TO','FST.TO','SKYY.TO','FDN.TO','ETP.TO','BLCK.TO','NXTG.TO','FINT.TO','FDL.TO','QCLN.TO','CIBR.TO','FBT.TO','FSL.TO','FUD.TO','FCU.TO','FLOW.TO','FAR.TO','FSY.TO','FVI.TO','FT.TO','FLCP.TO','FLCI.TO','FLSD.TO','FHIS.TO','FBGO.TO','FCII.TO','FCSI.TO','FLBA.TO','FLGA.TO','FLGD.TO','FGGE.TO','FINO.TO','FLDM.TO','FLRM.TO','FLUI.TO','FLUS.TO','FWCP.TO','FVL.TO','FRU.TO','FEC.TO','FURY.TO','GLXY.TO','GDI.TO','GENM.TO','GDC.TO','GEO.TO','WN.TO','GFL.TO','GEI.TO','GIL.TO','GLG.TO','GLO.TO','GDV.TO','GWR.TO','GMX.TO','GGD.TO','GMTN.TO','GRC.TO','AUMN.TO','GGA.TO','FOOD.TO','GTE.TO','GWO.TO','GTMS.TO','GFP.TO','GRN.TO','GCBD.TO','GCSC.TO','GCG.TO','GDEP.TO','GDPY.TO','GGAC.TO','GGEM.TO','GIQG.TO','GIGR.TO','GIQU.TO','GPMD.TO','GURU.TO','HAI.TO','HBA.TO','HCA.TO','HCAL.TO','HFIN.TO','HDIV.TO','HYLD.TO','HUTS.TO','HFT.TO','HFG.TO','HUM.TO','HBFE.TO','HBF.TO','HLFE.TO','HLIF.TO','HCLN.TO','HDIF.TO','HPF.TO','HUTE.TO','HUTL.TO','HESG.TO','HGGG.TO','HGR.TO','HHLE.TO','HHL.TO','HTAE.TO','HTA.TO','TRVL.TO','HUBL.TO','HBP.TO','HWO.TO','HLF.TO','HLS.TO','HCG.TO','HARC.TO','HAD.TO','HAL.TO','HMP.TO','HAB.TO','HAEB.TO','HSL.TO','HAZ.TO','HAF.TO','HYI.TO','HYBR.TO','HPR.TO','HFR.TO','HUF.TO','HBAL.TO','HBGD.TO','CNCC.TO','ENCC.TO','UTIL.TO','CARB.TO','HSAV.TO','HXH.TO','HBB.TO','HCON.TO','COPP.TO','HUC.TO','HXEM.TO','HEMC.TO','HEWB.TO','HCRE.TO','BKCC.TO','HXX.TO','BBIG.TO','HYDR.TO','HLIT.TO','MTAV.TO','CHPS.TO','ETHI.TO','HURA.TO','HVAX.TO','HUG.TO','GLCC.TO','HGY.TO','HGRO.TO','HBUG.TO','HDOC.TO','CASH.TO','FOUR.TO','INOC.TO','HXDM.TO','HLPR.TO','HMMJ.TO','QQCC.TO','HXQ.TO','HUN.TO','BLDR.TO','HOG.TO','HRAA.TO','RBOT.TO','HSH.TO','HXS.TO','HGGB.TO','HXT.TO','HXCN.TO','HXE.TO','HXF.TO','HAC.TO','HUZ.TO','HARB.TO','HTB.TO','DLR.TO','USCC.TO','HULC.TO','HZM.TO','HUT.TO','H.TO','ITE.TO','ICPB.TO','IFRF.TO','IGAF.TO','ILGB.TO','ISIF.TO','IMG.TO','III.TO','IDG.TO','INE.TO','INQ.TO','IGX.TO','IPCI.TO','IFP.TO','IMP.TO','ITH.TO','PFL.TO','PSB.TO','PDC.TO','PPS.TO','BESG.TO','IWBE.TO','QQCE.TO','QQJE.TO','PXC.TO','PZC.TO','PZW.TO','PXG.TO','PXS.TO','PSY.TO','USB.TO','PLV.TO','QQEQ.TO','QQC.TO','QQJR.TO','EQL.TO','ESG.TO','ISTE.TO','ELV.TO','IICE.TO','IITE.TO','ILV.TO','IUCE.TO','IUTE.TO','IXTE.TO','ESGC.TO','ICTE.TO','TLV.TO','REIT.TO','XSTP.TO','XSTH.TO','CBH.TO','CLG.TO','CBO.TO','CLF.TO','XSHU.TO','XIGS.TO','FIE.TO','XCG.TO','XHB.TO','XRB.TO','XDV.TO','XCV.TO','XCH.TO','XSC.TO','XSE.TO','CVD.TO','XBAL.TO','XCB.TO','XGB.TO','XLB.TO','XSB.TO','XSH.TO','XBB.TO','XCNS.TO','XEQT.TO','XGRO.TO','XINC.TO','XAW.TO','XDIV.TO','XEF.TO','XFH.TO','XEC.TO','XDG.TO','XDGH.TO','XDU.TO','XDUH.TO','XUS.TO','XSP.TO','XUU.TO','XUH.TO','XIC.TO','XHAK.TO','XTR.TO','CEW.TO','XSHG.TO','XCBG.TO','XCSR.TO','XDSR.TO','XUSR.TO','XSAB.TO','XSTB.TO','XESG.TO','XSEA.TO','XSEM.TO','XSUS.TO','GBAL.TO','GCNS.TO','GEQT.TO','GGRO.TO','XCLR.TO','XDLR.TO','XULR.TO','XEXP.TO','XFR.TO','XDNA.TO','COW.TO','XCLN.TO','XHC.TO','CIF.TO','CYH.TO','CGR.TO','CWW.TO','CGL.TO','XQB.TO','XID.TO','XEB.TO','XEN.TO','XIN.TO','XEM.TO','XEU.TO','XEH.TO','XMV.TO','XMI.TO','XML.TO','XMM.TO','XMW.TO','XMY.TO','XMU.TO','XMS.TO','XFC.TO','XFI.TO','XFF.TO','XFS.TO','XFA.TO','XMTM.TO','XQLT.TO','XVLU.TO','XWD.TO','XQQ.TO','CMR.TO','XCD.TO','XGI.TO','XMC.TO','XMH.TO','XSMC.TO','XSMH.TO','XIU.TO','CDZ.TO','CPD.TO','XST.TO','XEG.TO','XFN.TO','XIT.TO','XMA.TO','XRE.TO','XUT.TO','XMD.TO','XEI.TO','XBM.TO','XGD.TO','XPF.TO','XCS.TO','CSD.TO','XSQ.TO','XSI.TO','SVR.TO','XAGG.TO','XAGH.TO','XHU.TO','XHD.TO','XHY.TO','CHB.TO','XCBU.TO','XIG.TO','XSU.TO','CUD.TO','IE.TO','IVN.TO','JWEL.TO','KRN.TO','KLS.TO','KEC.TO','GUD.TO','KEI.TO','LIF.TO','LAM.TO','LB.TO','LNF.TO','LBS.TO','LSPD.TO','LNR.TO','LEV.TO','LAC.TO','L.TO','LUC.TO','LUN.TO','LYCT.TO','LYFR.TO','PR.TO','MBAL.TO','QBB.TO','QCN.TO','QCE.TO','MCSB.TO','QSB.TO','MCON.TO','MKB.TO','MGB.TO','QDXB.TO','QRET.TO','QEBH.TO','QEE.TO','QEBL.TO','MFT.TO','MGAB.TO','QINF.TO','MDVD.TO','MGRW.TO','QDX.TO','QDXH.TO','MIVG.TO','MXU.TO','MWD.TO','MKC.TO','MEU.TO','MEE.TO','MUS.TO','MPCF.TO','QUB.TO','MUB.TO','QHY.TO','QUIG.TO','QUU.TO','QAH.TO','MPC.TO','MAL.TO','MAGT.TO','MEQ.TO','MDI.TO','MND.TO','MFC.TO','MCLC.TO','MCSM.TO','MINT.TO','MULC.TO','MUMC.TO','MUSC.TO','BSKT.TO','CBND.TO','CDEF.TO','CDIV.TO','TERM.TO','UDEF.TO','UDIV.TO','MFI.TO','MOZ.TO','MARI.TO','MAV.TO','MAXR.TO','DRDR.TO','MDP.TO','DR.TO','MDNA.TO','LABS.TO','MRD.TO','MNO.TO','MX.TO','MBX.TO','HWF.TO','MHCD.TO','MINN.TO','MREL.TO','MDIV.TO','MINF.TO','MUSA.TO','MSV.TO','GBAR.TO','MRC.TO','MPVD.TO','CBNK.TO','MPY.TO','NANO.TO','NA.TO','NPRF.TO','NINT.TO','NUSA.TO','NDIV.TO','NFAM.TO','NGPE.TO','NREA.TO','NHYB.TO','NALT.TO','NSCB.TO','NSCC.TO','NSCE.TO','NSSB.TO','NSGE.TO','NUBF.TO','NCG.TO','NBLY.TO','NEO.TO','NCU.TO','NUAG.TO','NCM.TO','NGT.TO','NEXT.TO','NCP.TO','NHK.TO','BITC.TO','FFN.TO','NWC.TO','NCF.TO','NDM.TO','NOVC.TO','NG.TO','NVO.TO','NUMI.TO','MRV.TO','SFD.TO','OBE.TO','OLY.TO','ONC.TO','ONEX.TO','OTEX.TO','OGD.TO','OREA.TO','ORE.TO','OGI.TO','ORV.TO','OR.TO','GOGR.TO','PAAS.TO','POU.TO','PXT.TO','PPL.TO','PMT.TO','PRU.TO','PET.TO','PRQ.TO','PEY.TO','PHX.TO','PFAE.TO','PFAA.TO','PFCB.TO','PFIA.TO','PFLS.TO','PFMN.TO','PFMS.TO','PFSS.TO','PEA.TO','PMNT.TO','IGCF.TO','PLDI.TO','PCON.TO','PCOR.TO','PMIF.TO','PNE.TO','PNP.TO','PIPE.TO','PZA.TO','PTM.TO','PIF.TO','PBL.TO','POM.TO','POW.TO','PPR.TO','PSK.TO','PD.TO','PBH.TO','PDV.TO','PRN.TO','PMN.TO','PRL.TO','PBI.TO','BTCC.TO','BTCY.TO','BNC.TO','MNY.TO','PRP.TO','PDF.TO','CROP.TO','CRYP.TO','PRA.TO','PDIV.TO','PAYF.TO','ETHH.TO','ETHY.TO','IGB.TO','BND.TO','CLMT.TO','FLX.TO','PINV.TO','KILO.TO','HEAL.TO','PSA.TO','PID.TO','PHW.TO','PIN.TO','PINC.TO','PMM.TO','PYF.TO','PHR.TO','SBT.TO','SYLD.TO','PHE.TO','PBD.TO','PUD.TO','PYR.TO','QRC.TO','RLB.TO','RBO.TO','RBNK.TO','RPF.TO','RPSB.TO','RCD.TO','RCE.TO','RIDH.TO','RID.TO','RIEH.TO','RIE.TO','RXD.TO','RXE.TO','RPDH.TO','RPD.TO','RUDH.TO','RUD.TO','RUEH.TO','RUE.TO','RUSB.TO','RQK.TO','RQL.TO','RQN.TO','RQO.TO','RQP.TO','RQQ.TO','RQR.TO','RUBH.TO','RUBY.TO','RS.TO','RFP.TO','QSR.TO','REUN.TO','RCG.TO','RCH.TO','RBA.TO','ROOT.TO','RY.TO','MNT.TO','MNS.TO','RTG.TO','RBY.TO','RIFI.TO','RIIN.TO','RIRA.TO','SBN.TO','SBB.TO','SFC.TO','SCY.TO','SEA.TO','SES.TO','PME.TO','SEC.TO','SBI.TO','S.TO','SHOP.TO','SIA.TO','SW.TO','SBR.TO','SVB.TO','ELEF.TO','SVM.TO','SIL.TO','SKE.TO','ZZZ.TO','SNC.TO','SFTC.TO','SOLG.TO','SLR.TO','SFI.TO','SHLE.TO','SGQ.TO','SPG.TO','SDE.TO','EDT.TO','TOY.TO','CEF.TO','PHYS.TO','SPPP.TO','PSLV.TO','STCK.TO','SZLS.TO','SMA.TO','DIAM.TO','SAM.TO','STLC.TO','STEP.TO','SVI.TO','SMC.TO','PWI.TO','SWP.TO','SXI.TO','TBL.TO','TAIG.TO','TSK.TO','TVE.TO','GRID.TO','TRP.TO','TGED.TO','TGGR.TO','TGFI.TO','TINF.TO','TGRE.TO','TPRF.TO','TUED.TO','TUHY.TO','TDB.TO','TTP.TO','TCLB.TO','TCBN.TO','TDOC.TO','TECI.TO','TEC.TO','TPAY.TO','THE.TO','TPE.TO','TMCC.TO','TMEC.TO','TMEI.TO','TMUC.TO','TMEU.TO','TOCA.TO','TOCC.TO','TOCM.TO','TQCD.TO','TCLV.TO','TQGD.TO','TQGM.TO','TILV.TO','TULV.TO','TQSM.TO','TCSB.TO','TUSB.TO','THU.TO','TPU.TO','XTD.TO','TSAT.TO','T.TO','TIXT.TO','TVK.TO','TBP.TO','TFII.TO','REAX.TO','TH.TO','THNC.TO','TRI.TO','TWM.TO','LCFS.TO','TLRY.TO','TF.TO','TI.TO','TTNM.TO','X.TO','TXG.TO','TIH.TO','RNW.TO','TML.TO','TSL.TO','TCW.TO','TCN.TO','TRL.TO','TMQ.TO','TFPM.TO','TSU.TO','TLG.TO','TNX.TO','TRQ.TO','UNC.TO','URB.TO','FTU.TO','VPH.TO','VLE.TO','VEQT.TO','VBAL.TO','VAB.TO','VCB.TO','VGV.TO','VLB.TO','VSB.TO','VSC.TO','VCNS.TO','VCIP.TO','VCN.TO','VCE.TO','VRE.TO','VDY.TO','VIU.TO','VI.TO','VDU.TO','VEF.TO','VA.TO','VE.TO','VIDY.TO','VEE.TO','VXC.TO','VVO.TO','VMO.TO','VVL.TO','VGRO.TO','VRIF.TO','VFV.TO','VSP.TO','VGG.TO','VGH.TO','VUN.TO','VUS.TO','NPK.TO','VET.TO','VBNK.TO','FORA.TO','VGCX.TO','VMD.TO','VGZ.TO','WJX.TO','WFC.TO','WM.TO','WCN.TO','WBR.TO','WSRD.TO','WSRI.TO','WELL.TO','WDO.TO','WFG.TO','WRN.TO','WRG.TO','WEF.TO','WRX.TO','WPRT.TO','WTE.TO','WPM.TO','WCP.TO','WILD.TO','WPK.TO','WNDR.TO','WFS.TO','XAM.TO','XTG.TO','XTRA.TO','Y.TO','YRB.TO']"
   ]
  },
  {
   "cell_type": "code",
   "execution_count": 3,
   "id": "1da2a29f-82da-4116-b207-0727f31943d3",
   "metadata": {},
   "outputs": [],
   "source": [
    "#Getting the info for each Ticker\n",
    "from getTicker import getTickerinfo\n",
    "TSX_info = getTickerinfo(TSX_Tickers)\n",
    "\n",
    "TSX_info.to_csv('../../data/MVP/TSX_info.csv')"
   ]
  },
  {
   "cell_type": "code",
   "execution_count": null,
   "id": "9c5c6c31",
   "metadata": {},
   "outputs": [],
   "source": [
    "# Filtering out the the stocks that don't meet our conditions\n",
    "from wishlistTSX import wishlistTSX\n",
    "TSX_wishlist = wishlistTSX(TSX_info)"
   ]
  },
  {
   "attachments": {},
   "cell_type": "markdown",
   "id": "2dc868e5",
   "metadata": {},
   "source": [
    "Pulling all those tickers is a lengthy process, so we are saving the results in a csv file. This way, we can skip this step in the future. At least until the list of TSX tickers needs to be updated."
   ]
  },
  {
   "cell_type": "code",
   "execution_count": null,
   "id": "bf814853",
   "metadata": {},
   "outputs": [],
   "source": [
    "# save the wishlist to a csv file\n",
    "TSX_wishlist.to_csv('../../data/MVP/TSX_wishlist.csv')"
   ]
  },
  {
   "cell_type": "markdown",
   "id": "aaa55343-e762-46a1-ae99-5a00e12ab398",
   "metadata": {},
   "source": [
    "## Get stock history"
   ]
  },
  {
   "attachments": {},
   "cell_type": "markdown",
   "id": "75655646",
   "metadata": {},
   "source": [
    "With the wishlist, we can now get the stock history for each ticker. The results are stored in a dataframe called TSX_history."
   ]
  },
  {
   "cell_type": "code",
   "execution_count": 18,
   "id": "e32a4087-17ad-42de-a684-6323e41c7777",
   "metadata": {},
   "outputs": [],
   "source": [
    "#temporary\n",
    "import pandas as pd\n",
    "\n",
    "# import TSX_top csv\n",
    "TSX_wishlist = pd.read_csv('../../data/MVP/TSX_top.csv')"
   ]
  },
  {
   "cell_type": "code",
   "execution_count": 19,
   "id": "f66fc1a3-d17d-4221-8c82-853862e4f86d",
   "metadata": {},
   "outputs": [],
   "source": [
    "from getTicker import getTickerhistory\n",
    "TSX_history = getTickerhistory(TSX_wishlist)"
   ]
  },
  {
   "attachments": {},
   "cell_type": "markdown",
   "id": "b4b91c5e",
   "metadata": {},
   "source": [
    "In terms of feature engineering, I am adding the sector and industry of each stock. This info is contained in the wishlist so I need to add it to the TSX_history dataframe."
   ]
  },
  {
   "cell_type": "code",
   "execution_count": 20,
   "id": "30cc65e5",
   "metadata": {},
   "outputs": [],
   "source": [
    "# Add what sectors the stocks are in\n",
    "TSX_history = TSX_history.merge(TSX_wishlist[['symbol', 'sector']], on='symbol', how='left')\n",
    "\n",
    "# Add industry\n",
    "TSX_history = TSX_history.merge(TSX_wishlist[['symbol', 'industry']], on='symbol', how='left')"
   ]
  },
  {
   "cell_type": "code",
   "execution_count": 21,
   "id": "1b48167e",
   "metadata": {},
   "outputs": [],
   "source": [
    "# save to a csv file\n",
    "\n",
    "## the date is in the index, so we need to reset the index\n",
    "TSX_history = TSX_history.reset_index()\n",
    "\n",
    "TSX_history.to_csv('../../data/MVP/TSX_history.csv')"
   ]
  },
  {
   "attachments": {},
   "cell_type": "markdown",
   "id": "d2c8f81c",
   "metadata": {},
   "source": [
    "## Get key commodities and indices history"
   ]
  },
  {
   "attachments": {},
   "cell_type": "markdown",
   "id": "56b2377d",
   "metadata": {},
   "source": [
    "For feature engineering, I am also adding the history of key commodities and indices. This will allow the model to take into account the overall market conditions, and possibly make correlations with some when making predictions."
   ]
  },
  {
   "cell_type": "code",
   "execution_count": 22,
   "id": "491f7351",
   "metadata": {},
   "outputs": [],
   "source": [
    "# List of tickers to get\n",
    "tickers = ['GC=F', 'SI=F', 'HG=F', 'CL=F', 'BZ=F', 'NG=F', 'ZC=F', 'ZO=F', 'KE=F', 'ZR=F', 'ZS=F', 'GF=F', 'HE=F', 'LE=F', 'CC=F', 'KC=F', 'CT=F', 'LBS=F', 'OJ=F', 'SB=F', 'CADUSD=X', 'CADEUR=X', 'CADGBP=X', '^GSPTSE', '^GSPC', '^DJI', '^VIX', '^FTSE']\n",
    "\n",
    "# convert tickers to a df\n",
    "tickers = pd.DataFrame(tickers, columns=['symbol'])"
   ]
  },
  {
   "cell_type": "code",
   "execution_count": 23,
   "id": "4ad66450",
   "metadata": {},
   "outputs": [],
   "source": [
    "# get the history of the tickers\n",
    "from getTicker import getTickerhistory\n",
    "CommIndex = getTickerhistory(tickers)\n",
    "\n",
    "# Format the Date\n",
    "CommIndex.reset_index(inplace=True)\n",
    "CommIndex['Date'] = pd.to_datetime(CommIndex['Date'], utc=True)\n",
    "CommIndex['Date'] = pd.to_datetime(CommIndex['Date']).dt.date\n",
    "CommIndex['Date'] = pd.to_datetime(CommIndex['Date'])\n",
    "CommIndex.set_index('Date', inplace=True)\n",
    "\n",
    "#pivot table with Date as index, symbol as columns and Close as values\n",
    "CommIndex_pivot = CommIndex.pivot_table(index='Date', columns='symbol', values='Close')\n",
    "\n",
    "#replace NaN with 0\n",
    "CommIndex_pivot.fillna(0, inplace=True)"
   ]
  },
  {
   "cell_type": "code",
   "execution_count": 24,
   "id": "98c259c0",
   "metadata": {},
   "outputs": [],
   "source": [
    "# save to a csv file\n",
    "\n",
    "## the date is in the index, so we need to reset the index\n",
    "CommIndex_pivot = CommIndex_pivot.reset_index()\n",
    "\n",
    "CommIndex_pivot.to_csv('../../data/MVP/CommIndex.csv')"
   ]
  },
  {
   "attachments": {},
   "cell_type": "markdown",
   "id": "52e800fe-f57a-42ed-acb7-5fd4096b5f23",
   "metadata": {},
   "source": [
    "## Feature Engineering"
   ]
  },
  {
   "attachments": {},
   "cell_type": "markdown",
   "id": "0dda17b7",
   "metadata": {},
   "source": [
    "Reimporting the data from the csv files, so we don't have to run the previous steps again when we restart the kernel."
   ]
  },
  {
   "cell_type": "code",
   "execution_count": 35,
   "id": "7c5c1224",
   "metadata": {},
   "outputs": [],
   "source": [
    "#Reimport the csv files with no index\n",
    "import pandas as pd\n",
    "TSX_history = pd.read_csv('../../data/MVP/TSX_history.csv')\n",
    "CommIndex_pivot = pd.read_csv('../../data/MVP/CommIndex.csv')\n",
    "\n",
    "# reset the date as index\n",
    "TSX_history.set_index('Date', inplace=True)\n",
    "CommIndex_pivot.set_index('Date', inplace=True)\n",
    "\n",
    "#delete the extra index column\n",
    "del TSX_history['Unnamed: 0']\n",
    "del CommIndex_pivot['Unnamed: 0']\n",
    "del TSX_history['index']"
   ]
  },
  {
   "cell_type": "markdown",
   "id": "06f3c418-7986-49fa-a02d-7de46eb34ab1",
   "metadata": {},
   "source": [
    "Add Technical Indicators to Ticker:"
   ]
  },
  {
   "cell_type": "code",
   "execution_count": 36,
   "id": "2ce8cb95-d82c-4834-b04b-59880bf4ba1a",
   "metadata": {
    "tags": []
   },
   "outputs": [
    {
     "name": "stderr",
     "output_type": "stream",
     "text": [
      "c:\\Users\\987\\anaconda3\\envs\\Main_IDE\\lib\\site-packages\\ta\\trend.py:780: RuntimeWarning: invalid value encountered in double_scalars\n",
      "  dip[idx] = 100 * (self._dip[idx] / value)\n",
      "c:\\Users\\987\\anaconda3\\envs\\Main_IDE\\lib\\site-packages\\ta\\trend.py:785: RuntimeWarning: invalid value encountered in double_scalars\n",
      "  din[idx] = 100 * (self._din[idx] / value)\n"
     ]
    }
   ],
   "source": [
    "from featureEngineering import featureEngineering\n",
    "TSX_FE = featureEngineering(TSX_history)"
   ]
  },
  {
   "cell_type": "code",
   "execution_count": 37,
   "id": "e6f3af4d",
   "metadata": {},
   "outputs": [],
   "source": [
    "#Label encode the sectors\n",
    "from sklearn.preprocessing import LabelEncoder\n",
    "le = LabelEncoder()\n",
    "TSX_FE['sector'] = le.fit_transform(TSX_FE['sector'])\n",
    "\n",
    "#Label encode the industry\n",
    "from sklearn.preprocessing import LabelEncoder\n",
    "le = LabelEncoder()\n",
    "TSX_FE['industry'] = le.fit_transform(TSX_FE['industry'])"
   ]
  },
  {
   "attachments": {},
   "cell_type": "markdown",
   "id": "0b21b3ce-784c-46fd-a95c-8ba1f5f8debc",
   "metadata": {},
   "source": [
    "Add Technical Indicators to Index and commodities"
   ]
  },
  {
   "cell_type": "code",
   "execution_count": 38,
   "id": "6476971f",
   "metadata": {},
   "outputs": [],
   "source": [
    "#feature engineering for the commodities and indexes\n",
    "\n",
    "# Change the values in each column to the percentage change from the previous day\n",
    "CommIndex_pivot_ch = CommIndex_pivot.pct_change()\n",
    "\n",
    "# replace NaN with 0 and inf with 0\n",
    "CommIndex_pivot_ch.fillna(0, inplace=True)\n",
    "CommIndex_pivot_ch.replace([np.inf, -np.inf], 0, inplace=True)\n"
   ]
  },
  {
   "cell_type": "code",
   "execution_count": 50,
   "id": "7468e281",
   "metadata": {},
   "outputs": [],
   "source": [
    "# add all columns from CommIndex_pivot to TSX_FE where Date(index) are the same\n",
    "\n",
    "#Change the type of Date column to datetime\n",
    "CommIndex_pivot_ch.reset_index(inplace=True)\n",
    "CommIndex_pivot_ch['Date'] = pd.to_datetime(CommIndex_pivot_ch['Date'])\n",
    "CommIndex_pivot_ch.set_index('Date', inplace=True)\n",
    "TSX_FE.reset_index(inplace=True)\n",
    "TSX_FE['Date'] = pd.to_datetime(TSX_FE['Date'])\n",
    "TSX_FE.set_index('Date', inplace=True)\n",
    "\n",
    "TSX_Full = TSX_FE.merge(CommIndex_pivot_ch, on='Date', how='left')"
   ]
  },
  {
   "cell_type": "code",
   "execution_count": 54,
   "id": "9608b754",
   "metadata": {},
   "outputs": [],
   "source": [
    "# save to a csv file\n",
    "TSX_Full.to_csv('../../data/MVP/TSX_Full.csv')"
   ]
  },
  {
   "cell_type": "markdown",
   "id": "dd13d51d-f6b9-4658-82c8-26f3e894d565",
   "metadata": {},
   "source": [
    "# LSTM Model"
   ]
  },
  {
   "cell_type": "code",
   "execution_count": null,
   "id": "19518a87-406a-40f4-bc30-d21c7298954e",
   "metadata": {},
   "outputs": [],
   "source": [
    "# import the csv file\n",
    "import pandas as pd\n",
    "\n",
    "TSX_Full = pd.read_csv('../../data/MVP/TSX_Full.csv')"
   ]
  },
  {
   "attachments": {},
   "cell_type": "markdown",
   "id": "b2dea671",
   "metadata": {},
   "source": [
    "So the first thing we need to do is train our model"
   ]
  },
  {
   "cell_type": "code",
   "execution_count": null,
   "id": "209bd0ef",
   "metadata": {},
   "outputs": [],
   "source": []
  },
  {
   "cell_type": "code",
   "execution_count": 43,
   "id": "17a663fc",
   "metadata": {},
   "outputs": [
    {
     "name": "stdout",
     "output_type": "stream",
     "text": [
      "Epoch 1/25\n",
      "596/596 [==============================] - 13s 16ms/step - loss: 0.6344\n",
      "Epoch 2/25\n",
      "596/596 [==============================] - 9s 16ms/step - loss: 0.2317\n",
      "Epoch 3/25\n",
      "596/596 [==============================] - 9s 16ms/step - loss: 0.2565\n",
      "Epoch 4/25\n",
      "596/596 [==============================] - 9s 16ms/step - loss: 0.1879\n",
      "Epoch 5/25\n",
      "596/596 [==============================] - 9s 16ms/step - loss: 0.1149\n",
      "Epoch 6/25\n",
      "596/596 [==============================] - 9s 16ms/step - loss: 0.0946\n",
      "Epoch 7/25\n",
      "596/596 [==============================] - 9s 16ms/step - loss: 0.0787\n",
      "Epoch 8/25\n",
      "596/596 [==============================] - 9s 16ms/step - loss: 0.0640\n",
      "Epoch 9/25\n",
      "596/596 [==============================] - 9s 16ms/step - loss: 0.0583\n",
      "Epoch 10/25\n",
      "596/596 [==============================] - 9s 16ms/step - loss: 0.0706\n",
      "Epoch 11/25\n",
      "596/596 [==============================] - 9s 16ms/step - loss: 0.0637\n",
      "Epoch 12/25\n",
      "596/596 [==============================] - 10s 16ms/step - loss: 0.0817\n",
      "Epoch 13/25\n",
      "596/596 [==============================] - 10s 16ms/step - loss: 0.0754\n",
      "Epoch 14/25\n",
      "596/596 [==============================] - 10s 16ms/step - loss: 0.1150\n",
      "Epoch 15/25\n",
      "596/596 [==============================] - 9s 16ms/step - loss: 0.0832\n",
      "Epoch 16/25\n",
      "596/596 [==============================] - 9s 16ms/step - loss: 0.0548\n",
      "Epoch 17/25\n",
      "596/596 [==============================] - 9s 16ms/step - loss: 0.0506\n",
      "Epoch 18/25\n",
      "596/596 [==============================] - 10s 16ms/step - loss: 0.0445\n",
      "Epoch 19/25\n",
      "596/596 [==============================] - 9s 16ms/step - loss: 0.0464\n",
      "Epoch 20/25\n",
      "596/596 [==============================] - 9s 16ms/step - loss: 0.0445\n",
      "Epoch 21/25\n",
      "596/596 [==============================] - 10s 16ms/step - loss: 0.0553\n",
      "Epoch 22/25\n",
      "596/596 [==============================] - 10s 16ms/step - loss: 0.0417\n",
      "Epoch 23/25\n",
      "596/596 [==============================] - 10s 16ms/step - loss: 0.0404\n",
      "Epoch 24/25\n",
      "596/596 [==============================] - 9s 16ms/step - loss: 0.0491\n",
      "Epoch 25/25\n",
      "596/596 [==============================] - 9s 16ms/step - loss: 0.0455\n"
     ]
    },
    {
     "ename": "FileNotFoundError",
     "evalue": "[Errno 2] No such file or directory: '2023-01-06 10:55_LSTM_TVE_1D.sav'",
     "output_type": "error",
     "traceback": [
      "\u001b[1;31m---------------------------------------------------------------------------\u001b[0m",
      "\u001b[1;31mFileNotFoundError\u001b[0m                         Traceback (most recent call last)",
      "\u001b[1;32mc:\\Users\\987\\GIT_LHL\\DataScienceBootcamp\\FinalProject\\src\\Dashboard.ipynb Cell 25\u001b[0m in \u001b[0;36m<cell line: 4>\u001b[1;34m()\u001b[0m\n\u001b[0;32m      <a href='vscode-notebook-cell:/c%3A/Users/987/GIT_LHL/DataScienceBootcamp/FinalProject/src/Dashboard.ipynb#X33sZmlsZQ%3D%3D?line=0'>1</a>\u001b[0m ticker \u001b[39m=\u001b[39m \u001b[39m'\u001b[39m\u001b[39mTVE.TO\u001b[39m\u001b[39m'\u001b[39m\n\u001b[0;32m      <a href='vscode-notebook-cell:/c%3A/Users/987/GIT_LHL/DataScienceBootcamp/FinalProject/src/Dashboard.ipynb#X33sZmlsZQ%3D%3D?line=2'>3</a>\u001b[0m \u001b[39mfrom\u001b[39;00m \u001b[39mrunLSTM3\u001b[39;00m \u001b[39mimport\u001b[39;00m runLSTM2\n\u001b[1;32m----> <a href='vscode-notebook-cell:/c%3A/Users/987/GIT_LHL/DataScienceBootcamp/FinalProject/src/Dashboard.ipynb#X33sZmlsZQ%3D%3D?line=3'>4</a>\u001b[0m test, prediction, rmse \u001b[39m=\u001b[39m runLSTM2(TSX_Full[TSX_Full[\u001b[39m'\u001b[39;49m\u001b[39msymbol\u001b[39;49m\u001b[39m'\u001b[39;49m] \u001b[39m==\u001b[39;49m ticker], target \u001b[39m=\u001b[39;49m \u001b[39m'\u001b[39;49m\u001b[39mClose\u001b[39;49m\u001b[39m'\u001b[39;49m, window \u001b[39m=\u001b[39;49m \u001b[39m10\u001b[39;49m, File\u001b[39m=\u001b[39;49m\u001b[39m'\u001b[39;49m\u001b[39mTVE_1D\u001b[39;49m\u001b[39m'\u001b[39;49m)\n\u001b[0;32m      <a href='vscode-notebook-cell:/c%3A/Users/987/GIT_LHL/DataScienceBootcamp/FinalProject/src/Dashboard.ipynb#X33sZmlsZQ%3D%3D?line=4'>5</a>\u001b[0m \u001b[39mprint\u001b[39m(prediction)\n\u001b[0;32m      <a href='vscode-notebook-cell:/c%3A/Users/987/GIT_LHL/DataScienceBootcamp/FinalProject/src/Dashboard.ipynb#X33sZmlsZQ%3D%3D?line=5'>6</a>\u001b[0m \u001b[39mprint\u001b[39m(rmse)\n",
      "File \u001b[1;32mc:\\Users\\987\\GIT_LHL\\DataScienceBootcamp\\FinalProject\\src\\runLSTM3.py:215\u001b[0m, in \u001b[0;36mrunLSTM2\u001b[1;34m(df, target, window, model, File, train_split)\u001b[0m\n\u001b[0;32m    213\u001b[0m     now \u001b[39m=\u001b[39m now\u001b[39m.\u001b[39mstrftime(\u001b[39m\"\u001b[39m\u001b[39m%\u001b[39m\u001b[39mY-\u001b[39m\u001b[39m%\u001b[39m\u001b[39mm-\u001b[39m\u001b[39m%d\u001b[39;00m\u001b[39m \u001b[39m\u001b[39m%\u001b[39m\u001b[39mH:\u001b[39m\u001b[39m%\u001b[39m\u001b[39mM\u001b[39m\u001b[39m\"\u001b[39m)\n\u001b[0;32m    214\u001b[0m     filename \u001b[39m=\u001b[39m now \u001b[39m+\u001b[39m \u001b[39m'\u001b[39m\u001b[39m_LSTM_\u001b[39m\u001b[39m'\u001b[39m \u001b[39m+\u001b[39m File \u001b[39m+\u001b[39m \u001b[39m'\u001b[39m\u001b[39m.sav\u001b[39m\u001b[39m'\u001b[39m\n\u001b[1;32m--> 215\u001b[0m     pickle\u001b[39m.\u001b[39mdump(lstm, \u001b[39mopen\u001b[39;49m(filename))\n\u001b[0;32m    217\u001b[0m \u001b[39melse\u001b[39;00m:\n\u001b[0;32m    218\u001b[0m     \u001b[39m# load model (pickle)\u001b[39;00m\n\u001b[0;32m    219\u001b[0m     \u001b[39mimport\u001b[39;00m \u001b[39mpickle\u001b[39;00m\n",
      "\u001b[1;31mFileNotFoundError\u001b[0m: [Errno 2] No such file or directory: '2023-01-06 10:55_LSTM_TVE_1D.sav'"
     ]
    }
   ],
   "source": [
    "ticker = 'TVE.TO'\n",
    "\n",
    "from runLSTM import runLSTM\n",
    "test, prediction, rmse = runLSTM(TSX_Full[TSX_Full['symbol'] == ticker], target = 'Close', window = 10, File='TVE_1D')\n",
    "print(prediction)\n",
    "print(rmse)"
   ]
  },
  {
   "attachments": {},
   "cell_type": "markdown",
   "id": "50ad7d2b",
   "metadata": {},
   "source": [
    "# It might be more efficient to do a model predicting the next 1/5/30 minutes and use it for intraday trading# It might be more efficient to do a model predicting the next 1/5/30 minutes and use it for intraday trading"
   ]
  },
  {
   "cell_type": "code",
   "execution_count": null,
   "id": "b9d7fd76",
   "metadata": {},
   "outputs": [],
   "source": [
    "# https://github.com/ranaroussi/yfinance\n",
    "\n",
    "data = yf.download(  # or pdr.get_data_yahoo(...\n",
    "        # tickers list or string as well\n",
    "        tickers = \"SPY AAPL MSFT\",\n",
    "\n",
    "        # use \"period\" instead of start/end\n",
    "        # valid periods: 1d,5d,1mo,3mo,6mo,1y,2y,5y,10y,ytd,max\n",
    "        # (optional, default is '1mo')\n",
    "        period = \"ytd\",\n",
    "\n",
    "        # fetch data by interval (including intraday if period < 60 days)\n",
    "        # valid intervals: 1m,2m,5m,15m,30m,60m,90m,1h,1d,5d,1wk,1mo,3mo\n",
    "        # (optional, default is '1d')\n",
    "        interval = \"5d\",\n",
    "\n",
    "        # Whether to ignore timezone when aligning ticker data from \n",
    "        # different timezones. Default is True. False may be useful for \n",
    "        # minute/hourly data.\n",
    "        ignore_tz = False,\n",
    "\n",
    "        # group by ticker (to access via data['SPY'])\n",
    "        # (optional, default is 'column')\n",
    "        group_by = 'ticker',\n",
    "\n",
    "        # adjust all OHLC automatically\n",
    "        # (optional, default is False)\n",
    "        auto_adjust = True,\n",
    "\n",
    "        # attempt repair of missing data or currency mixups e.g. $/cents\n",
    "        repair = False,\n",
    "\n",
    "        # download pre/post regular market hours data\n",
    "        # (optional, default is False)\n",
    "        prepost = True,\n",
    "\n",
    "        # use threads for mass downloading? (True/False/Integer)\n",
    "        # (optional, default is True)\n",
    "        threads = True,\n",
    "\n",
    "        # proxy URL scheme use use when downloading?\n",
    "        # (optional, default is None)\n",
    "        proxy = None\n",
    "    )"
   ]
  },
  {
   "cell_type": "code",
   "execution_count": 50,
   "id": "2341e28e",
   "metadata": {},
   "outputs": [
    {
     "name": "stdout",
     "output_type": "stream",
     "text": [
      "[*********************100%***********************]  1 of 1 completed\n",
      "[*********************100%***********************]  1 of 1 completed\n",
      "[*********************100%***********************]  1 of 1 completed\n"
     ]
    },
    {
     "name": "stderr",
     "output_type": "stream",
     "text": [
      "c:\\Users\\987\\anaconda3\\envs\\Main_IDE\\lib\\site-packages\\ta\\trend.py:780: RuntimeWarning: invalid value encountered in double_scalars\n",
      "  dip[idx] = 100 * (self._dip[idx] / value)\n",
      "c:\\Users\\987\\anaconda3\\envs\\Main_IDE\\lib\\site-packages\\ta\\trend.py:785: RuntimeWarning: invalid value encountered in double_scalars\n",
      "  din[idx] = 100 * (self._din[idx] / value)\n",
      "c:\\Users\\987\\anaconda3\\envs\\Main_IDE\\lib\\site-packages\\ta\\trend.py:780: RuntimeWarning: invalid value encountered in double_scalars\n",
      "  dip[idx] = 100 * (self._dip[idx] / value)\n",
      "c:\\Users\\987\\anaconda3\\envs\\Main_IDE\\lib\\site-packages\\ta\\trend.py:785: RuntimeWarning: invalid value encountered in double_scalars\n",
      "  din[idx] = 100 * (self._din[idx] / value)\n",
      "c:\\Users\\987\\anaconda3\\envs\\Main_IDE\\lib\\site-packages\\ta\\trend.py:780: RuntimeWarning: invalid value encountered in double_scalars\n",
      "  dip[idx] = 100 * (self._dip[idx] / value)\n",
      "c:\\Users\\987\\anaconda3\\envs\\Main_IDE\\lib\\site-packages\\ta\\trend.py:785: RuntimeWarning: invalid value encountered in double_scalars\n",
      "  din[idx] = 100 * (self._din[idx] / value)\n"
     ]
    }
   ],
   "source": [
    "import yfinance as yf\n",
    "\n",
    "TVE_1m = yf.download(tickers = \"TVE.TO\", period = \"5d\", interval = \"1m\",)\n",
    "TVE_5m = yf.download(tickers = \"TVE.TO\", period = \"5d\", interval = \"5m\",)\n",
    "TVE_30m = yf.download(tickers = \"TVE.TO\", period = \"5d\", interval = \"30m\",)\n",
    "\n",
    "#Rename column Datetime to Date and set it as index\n",
    "TVE_1m.reset_index(inplace=True)\n",
    "TVE_1m['Date'] = pd.to_datetime(TVE_1m['Datetime'], utc=True)\n",
    "TVE_1m['Date'] = pd.to_datetime(TVE_1m['Date']).dt.date\n",
    "TVE_1m['Date'] = pd.to_datetime(TVE_1m['Date'])\n",
    "TVE_1m.set_index('Date', inplace=True)\n",
    "del TVE_1m['Datetime']\n",
    "\n",
    "TVE_5m.reset_index(inplace=True)\n",
    "TVE_5m['Date'] = pd.to_datetime(TVE_5m['Datetime'], utc=True)\n",
    "TVE_5m['Date'] = pd.to_datetime(TVE_5m['Date']).dt.date\n",
    "TVE_5m['Date'] = pd.to_datetime(TVE_5m['Date'])\n",
    "TVE_5m.set_index('Date', inplace=True)\n",
    "del TVE_5m['Datetime']\n",
    "\n",
    "TVE_30m.reset_index(inplace=True)\n",
    "TVE_30m['Date'] = pd.to_datetime(TVE_30m['Datetime'], utc=True)\n",
    "TVE_30m['Date'] = pd.to_datetime(TVE_30m['Date']).dt.date\n",
    "TVE_30m['Date'] = pd.to_datetime(TVE_30m['Date'])\n",
    "TVE_30m.set_index('Date', inplace=True)\n",
    "del TVE_30m['Datetime']\n",
    "\n",
    "TVE_1m_FE = featureEngineering(TVE_1m)\n",
    "TVE_5m_FE = featureEngineering(TVE_5m)\n",
    "TVE_30m_FE = featureEngineering(TVE_30m)\n",
    "\n",
    "#Create empty columns called 'Dividends', 'Stock Splits', 'symbol'\n",
    "TVE_1m_FE['Dividends'] = 0\n",
    "TVE_1m_FE['Stock Splits'] = 0\n",
    "TVE_1m_FE['symbol'] = 'TVE.TO'\n",
    "TVE_1m_FE['index'] = 0\n",
    "\n",
    "TVE_5m_FE['Dividends'] = 0\n",
    "TVE_5m_FE['Stock Splits'] = 0\n",
    "TVE_5m_FE['symbol'] = 'TVE.TO'\n",
    "TVE_5m_FE['index'] = 0\n",
    "\n",
    "TVE_30m_FE['Dividends'] = 0\n",
    "TVE_30m_FE['Stock Splits'] = 0\n",
    "TVE_30m_FE['symbol'] = 'TVE.TO'\n",
    "TVE_30m_FE['index'] = 0"
   ]
  },
  {
   "cell_type": "code",
   "execution_count": 51,
   "id": "f1c66129",
   "metadata": {},
   "outputs": [
    {
     "name": "stdout",
     "output_type": "stream",
     "text": [
      "Epoch 1/15\n",
      "231/231 [==============================] - 10s 21ms/step - loss: 0.3206\n",
      "Epoch 2/15\n",
      "231/231 [==============================] - 5s 21ms/step - loss: 0.1856\n",
      "Epoch 3/15\n",
      "231/231 [==============================] - 5s 21ms/step - loss: 0.2945\n",
      "Epoch 4/15\n",
      "231/231 [==============================] - 5s 22ms/step - loss: 1.1492\n",
      "Epoch 5/15\n",
      "231/231 [==============================] - 5s 22ms/step - loss: 3.2663\n",
      "Epoch 6/15\n",
      "231/231 [==============================] - 6s 24ms/step - loss: 0.7652\n",
      "Epoch 7/15\n",
      "231/231 [==============================] - 6s 24ms/step - loss: 0.3499\n",
      "Epoch 8/15\n",
      "231/231 [==============================] - 5s 21ms/step - loss: 0.4680\n",
      "Epoch 9/15\n",
      "231/231 [==============================] - 5s 23ms/step - loss: 0.1653\n",
      "Epoch 10/15\n",
      "231/231 [==============================] - 6s 24ms/step - loss: 0.1074\n",
      "Epoch 11/15\n",
      "231/231 [==============================] - 6s 25ms/step - loss: 0.0715\n",
      "Epoch 12/15\n",
      "231/231 [==============================] - 6s 24ms/step - loss: 0.0507\n",
      "Epoch 13/15\n",
      "231/231 [==============================] - 6s 24ms/step - loss: 0.0522\n",
      "Epoch 14/15\n",
      "231/231 [==============================] - 7s 32ms/step - loss: 0.0740\n",
      "Epoch 15/15\n",
      "231/231 [==============================] - 7s 28ms/step - loss: 0.6519\n",
      "9/9 [==============================] - 1s 22ms/step\n",
      "1/1 [==============================] - 1s 1s/step\n",
      "[4.0674167] 0.043934657139737425\n",
      "Epoch 1/15\n",
      "61/61 [==============================] - 7s 20ms/step - loss: 0.7225\n",
      "Epoch 2/15\n",
      "61/61 [==============================] - 2s 26ms/step - loss: 0.5302\n",
      "Epoch 3/15\n",
      "61/61 [==============================] - 1s 24ms/step - loss: 0.3281\n",
      "Epoch 4/15\n",
      "61/61 [==============================] - 1s 22ms/step - loss: 0.3102\n",
      "Epoch 5/15\n",
      "61/61 [==============================] - 1s 23ms/step - loss: 1.7631\n",
      "Epoch 6/15\n",
      "61/61 [==============================] - 1s 22ms/step - loss: 1.7936\n",
      "Epoch 7/15\n",
      "61/61 [==============================] - 1s 23ms/step - loss: 1.0416\n",
      "Epoch 8/15\n",
      "61/61 [==============================] - 1s 23ms/step - loss: 0.3317\n",
      "Epoch 9/15\n",
      "61/61 [==============================] - 2s 27ms/step - loss: 0.3181\n",
      "Epoch 10/15\n",
      "61/61 [==============================] - 1s 21ms/step - loss: 0.1579\n",
      "Epoch 11/15\n",
      "61/61 [==============================] - 1s 23ms/step - loss: 0.1328\n",
      "Epoch 12/15\n",
      "61/61 [==============================] - 2s 26ms/step - loss: 0.2039\n",
      "Epoch 13/15\n",
      "61/61 [==============================] - 1s 22ms/step - loss: 0.1756\n",
      "Epoch 14/15\n",
      "61/61 [==============================] - 1s 22ms/step - loss: 0.1366\n",
      "Epoch 15/15\n",
      "61/61 [==============================] - 2s 25ms/step - loss: 0.1200\n",
      "3/3 [==============================] - 1s 8ms/step\n",
      "1/1 [==============================] - 0s 43ms/step\n",
      "[4.095414] 0.042349652675069904\n",
      "Epoch 1/15\n",
      "9/9 [==============================] - 5s 22ms/step - loss: 1.3487\n",
      "Epoch 2/15\n",
      "9/9 [==============================] - 0s 24ms/step - loss: 0.9852\n",
      "Epoch 3/15\n",
      "9/9 [==============================] - 0s 23ms/step - loss: 48.4540\n",
      "Epoch 4/15\n",
      "9/9 [==============================] - 0s 24ms/step - loss: 0.7263\n",
      "Epoch 5/15\n",
      "9/9 [==============================] - 0s 26ms/step - loss: 6.4771\n",
      "Epoch 6/15\n",
      "9/9 [==============================] - 0s 23ms/step - loss: 1.1343\n",
      "Epoch 7/15\n",
      "9/9 [==============================] - 0s 25ms/step - loss: 1.1465\n",
      "Epoch 8/15\n",
      "9/9 [==============================] - 0s 23ms/step - loss: 1.1463\n",
      "Epoch 9/15\n",
      "9/9 [==============================] - 0s 25ms/step - loss: 1.0744\n",
      "Epoch 10/15\n",
      "9/9 [==============================] - 0s 23ms/step - loss: 0.9058\n",
      "Epoch 11/15\n",
      "9/9 [==============================] - 0s 23ms/step - loss: 0.8422\n",
      "Epoch 12/15\n",
      "9/9 [==============================] - 0s 23ms/step - loss: 0.6725\n",
      "Epoch 13/15\n",
      "9/9 [==============================] - 0s 25ms/step - loss: 0.6364\n",
      "Epoch 14/15\n",
      "9/9 [==============================] - 0s 26ms/step - loss: 0.4503\n",
      "Epoch 15/15\n",
      "9/9 [==============================] - 0s 23ms/step - loss: 0.3654\n",
      "1/1 [==============================] - 1s 605ms/step\n",
      "1/1 [==============================] - 0s 35ms/step\n",
      "[4.2267528] 0.08812369634623735\n"
     ]
    }
   ],
   "source": [
    "from runLSTM import runLSTM\n",
    "\n",
    "prediction, rmse = runLSTM(TVE_1m_FE, target = 'Close', window = 10, Return = True, Print = True)\n",
    "print(prediction, rmse)\n",
    "\n",
    "prediction, rmse = runLSTM(TVE_5m_FE, target = 'Close', window = 10, Return = True, Print = True)\n",
    "print(prediction, rmse)\n",
    "\n",
    "prediction, rmse = runLSTM(TVE_30m_FE, target = 'Close', window = 10, Return = True, Print = True)\n",
    "print(prediction, rmse)"
   ]
  },
  {
   "cell_type": "markdown",
   "id": "c2880ac1",
   "metadata": {},
   "source": [
    "# TO DO"
   ]
  },
  {
   "cell_type": "code",
   "execution_count": null,
   "id": "846dc9a3",
   "metadata": {},
   "outputs": [],
   "source": [
    "# Train a model per stock? or a model per sector? or a model for all stocks with an indicator for the sector?"
   ]
  },
  {
   "cell_type": "code",
   "execution_count": null,
   "id": "b92838f0",
   "metadata": {},
   "outputs": [],
   "source": [
    "# Add economic data & events\n"
   ]
  },
  {
   "cell_type": "code",
   "execution_count": null,
   "id": "296a2c2d",
   "metadata": {},
   "outputs": [],
   "source": [
    "# Add political data & events"
   ]
  },
  {
   "cell_type": "code",
   "execution_count": null,
   "id": "195279c4",
   "metadata": {},
   "outputs": [],
   "source": [
    "# Add ACLED events"
   ]
  },
  {
   "cell_type": "code",
   "execution_count": null,
   "id": "fe1bf9d5",
   "metadata": {},
   "outputs": [],
   "source": [
    "# Add emdat events (earthquakes, tsunamis, volcanoes, etc)"
   ]
  },
  {
   "cell_type": "code",
   "execution_count": null,
   "id": "bee0732c",
   "metadata": {},
   "outputs": [],
   "source": [
    "# Add news events\n",
    "## https://github.com/zrxbeijing/NewsTrader\n",
    "\n",
    "### Everything seems to go back to the gdelt project"
   ]
  },
  {
   "cell_type": "code",
   "execution_count": 28,
   "id": "6757e966",
   "metadata": {},
   "outputs": [],
   "source": [
    "#BACKUP\n",
    " \n",
    "def lstm_split(data, n_steps):\n",
    "    X, y = [], []\n",
    "    for i in range(len(data) - n_steps):\n",
    "        X.append(data[i:i + n_steps,]) # all columns except last\n",
    "        y.append(data[i + n_steps, -1]) #the reason why we remove 1 from n_steps is because we want to predict the next day\n",
    "\n",
    "    return np.array(X), np.array(y)\n"
   ]
  },
  {
   "cell_type": "code",
   "execution_count": 13,
   "id": "e06f211f",
   "metadata": {},
   "outputs": [],
   "source": [
    "def lstm_split(data, n_steps):\n",
    "    X, y = [], []\n",
    "    for i in range(len(data) - n_steps + 1):\n",
    "        X.append(data[i:i + n_steps, :-1]) # all columns except last\n",
    "        y.append(data[i + n_steps -1, -1]) #the reason why we remove 1 from n_steps is because we want to predict the next day\n",
    "    \n",
    "    return np.array(X), np.array(y)"
   ]
  },
  {
   "cell_type": "code",
   "execution_count": 29,
   "id": "6924748c",
   "metadata": {},
   "outputs": [],
   "source": [
    "list1 = [1,2,3,4,5,6,7,8,9,10]\n",
    "list2 = ['a', 'b', 'c', 'd', 'e', 'f', 'g', 'h', 'i', 'j']\n",
    "\n",
    "#add list as column to empty dataframe\n",
    "df = pd.DataFrame()\n",
    "df['features'] = list\n",
    "df['target'] = list2\n",
    "\n",
    "X, y = lstm_split(df.values, n_steps = 3)\n"
   ]
  },
  {
   "cell_type": "code",
   "execution_count": 30,
   "id": "22c25f51",
   "metadata": {},
   "outputs": [
    {
     "data": {
      "text/plain": [
       "array([[[1, 'a'],\n",
       "        [2, 'b'],\n",
       "        [3, 'c']],\n",
       "\n",
       "       [[2, 'b'],\n",
       "        [3, 'c'],\n",
       "        [4, 'd']],\n",
       "\n",
       "       [[3, 'c'],\n",
       "        [4, 'd'],\n",
       "        [5, 'e']],\n",
       "\n",
       "       [[4, 'd'],\n",
       "        [5, 'e'],\n",
       "        [6, 'f']],\n",
       "\n",
       "       [[5, 'e'],\n",
       "        [6, 'f'],\n",
       "        [7, 'g']],\n",
       "\n",
       "       [[6, 'f'],\n",
       "        [7, 'g'],\n",
       "        [8, 'h']],\n",
       "\n",
       "       [[7, 'g'],\n",
       "        [8, 'h'],\n",
       "        [9, 'i']]], dtype=object)"
      ]
     },
     "execution_count": 30,
     "metadata": {},
     "output_type": "execute_result"
    }
   ],
   "source": [
    "X"
   ]
  },
  {
   "cell_type": "code",
   "execution_count": 31,
   "id": "4ad477e0",
   "metadata": {},
   "outputs": [
    {
     "data": {
      "text/plain": [
       "array(['d', 'e', 'f', 'g', 'h', 'i', 'j'], dtype='<U1')"
      ]
     },
     "execution_count": 31,
     "metadata": {},
     "output_type": "execute_result"
    }
   ],
   "source": [
    "y"
   ]
  },
  {
   "cell_type": "code",
   "execution_count": null,
   "id": "1b2afa4b",
   "metadata": {},
   "outputs": [],
   "source": []
  }
 ],
 "metadata": {
  "kernelspec": {
   "display_name": "Python 3 (ipykernel)",
   "language": "python",
   "name": "python3"
  },
  "language_info": {
   "codemirror_mode": {
    "name": "ipython",
    "version": 3
   },
   "file_extension": ".py",
   "mimetype": "text/x-python",
   "name": "python",
   "nbconvert_exporter": "python",
   "pygments_lexer": "ipython3",
   "version": "3.9.13"
  },
  "vscode": {
   "interpreter": {
    "hash": "de7c7c256a554f24e26762ba11e2197be1bbf8aad222cb3aee11379f46a24ffa"
   }
  }
 },
 "nbformat": 4,
 "nbformat_minor": 5
}
